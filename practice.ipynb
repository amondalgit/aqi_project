{
 "cells": [
  {
   "cell_type": "code",
   "execution_count": 1,
   "metadata": {},
   "outputs": [],
   "source": [
    "path = r'https://app.cpcbccr.com/ccr/#/caaqm-dashboard/caaqm-view-data-report/%2522%257B%255C%2522criteria%255C%2522%253A%255C%252224%2520Hours%255C%2522%252C%255C%2522reportFormat%255C%2522%253A%255C%2522Tabular%255C%2522%252C%255C%2522fromDate%255C%2522%253A%255C%252201-03-2022%2520T00%253A00%253A00Z%255C%2522%252C%255C%2522toDate%255C%2522%253A%255C%252231-03-2022%2520T11%253A50%253A59Z%255C%2522%252C%255C%2522state%255C%2522%253A%255C%2522Delhi%255C%2522%252C%255C%2522city%255C%2522%253A%255C%2522Delhi%255C%2522%252C%255C%2522station%255C%2522%253A%255C%2522site_5024%255C%2522%252C%255C%2522parameter%255C%2522%253A%255B%255C%2522parameter_215%255C%2522%252C%255C%2522parameter_193%255C%2522%252C%255C%2522parameter_204%255C%2522%252C%255C%2522parameter_238%255C%2522%252C%255C%2522parameter_237%255C%2522%252C%255C%2522parameter_235%255C%2522%252C%255C%2522parameter_234%255C%2522%252C%255C%2522parameter_37%255C%2522%252C%255C%2522parameter_236%255C%2522%252C%255C%2522parameter_226%255C%2522%252C%255C%2522parameter_225%255C%2522%252C%255C%2522parameter_194%255C%2522%252C%255C%2522parameter_311%255C%2522%252C%255C%2522parameter_312%255C%2522%252C%255C%2522parameter_203%255C%2522%252C%255C%2522parameter_222%255C%2522%252C%255C%2522parameter_202%255C%2522%252C%255C%2522parameter_232%255C%2522%252C%255C%2522parameter_223%255C%2522%252C%255C%2522parameter_240%255C%2522%252C%255C%2522parameter_216%255C%2522%255D%252C%255C%2522parameterNames%255C%2522%253A%255B%255C%2522PM10%255C%2522%252C%255C%2522PM2.5%255C%2522%252C%255C%2522AT%255C%2522%252C%255C%2522BP%255C%2522%252C%255C%2522SR%255C%2522%252C%255C%2522RH%255C%2522%252C%255C%2522WD%255C%2522%252C%255C%2522TOT-RF%255C%2522%252C%255C%2522RF%255C%2522%252C%255C%2522NO%255C%2522%252C%255C%2522NOx%255C%2522%252C%255C%2522NO2%255C%2522%252C%255C%2522NH3%255C%2522%252C%255C%2522SO2%255C%2522%252C%255C%2522CO%255C%2522%252C%255C%2522Ozone%255C%2522%252C%255C%2522Benzene%255C%2522%252C%255C%2522Toluene%255C%2522%252C%255C%2522Xylene%255C%2522%252C%255C%2522MP-Xylene%255C%2522%252C%255C%2522Eth-Benzene%255C%2522%255D%257D%2522'"
   ]
  },
  {
   "cell_type": "code",
   "execution_count": 6,
   "metadata": {},
   "outputs": [],
   "source": [
    "a = path.split('%')"
   ]
  },
  {
   "cell_type": "code",
   "execution_count": 17,
   "metadata": {},
   "outputs": [],
   "source": [
    "b = []\n",
    "for i in a:\n",
    "    if len(i)>4 and i[:4] in ['2522','2520']:\n",
    "        b.append(i[4:])"
   ]
  },
  {
   "cell_type": "code",
   "execution_count": 12,
   "metadata": {},
   "outputs": [
    {
     "name": "stdout",
     "output_type": "stream",
     "text": [
      "['https://app.cpcbccr.com/ccr/#/caaqm-dashboard/caaqm-view-data-report/', '2522', '257B', '255C', '2522criteria', '255C', '2522', '253A', '255C', '252224', '2520Hours', '255C', '2522', '252C', '255C', '2522reportFormat', '255C', '2522', '253A', '255C', '2522Tabular', '255C', '2522', '252C', '255C', '2522fromDate', '255C', '2522', '253A', '255C', '252201-03-2022', '2520T00', '253A00', '253A00Z', '255C', '2522', '252C', '255C', '2522toDate', '255C', '2522', '253A', '255C', '252231-03-2022', '2520T11', '253A50', '253A59Z', '255C', '2522', '252C', '255C', '2522state', '255C', '2522', '253A', '255C', '2522Delhi', '255C', '2522', '252C', '255C', '2522city', '255C', '2522', '253A', '255C', '2522Delhi', '255C', '2522', '252C', '255C', '2522station', '255C', '2522', '253A', '255C', '2522site_5024', '255C', '2522', '252C', '255C', '2522parameter', '255C', '2522', '253A', '255B', '255C', '2522parameter_215', '255C', '2522', '252C', '255C', '2522parameter_193', '255C', '2522', '252C', '255C', '2522parameter_204', '255C', '2522', '252C', '255C', '2522parameter_238', '255C', '2522', '252C', '255C', '2522parameter_237', '255C', '2522', '252C', '255C', '2522parameter_235', '255C', '2522', '252C', '255C', '2522parameter_234', '255C', '2522', '252C', '255C', '2522parameter_37', '255C', '2522', '252C', '255C', '2522parameter_236', '255C', '2522', '252C', '255C', '2522parameter_226', '255C', '2522', '252C', '255C', '2522parameter_225', '255C', '2522', '252C', '255C', '2522parameter_194', '255C', '2522', '252C', '255C', '2522parameter_311', '255C', '2522', '252C', '255C', '2522parameter_312', '255C', '2522', '252C', '255C', '2522parameter_203', '255C', '2522', '252C', '255C', '2522parameter_222', '255C', '2522', '252C', '255C', '2522parameter_202', '255C', '2522', '252C', '255C', '2522parameter_232', '255C', '2522', '252C', '255C', '2522parameter_223', '255C', '2522', '252C', '255C', '2522parameter_240', '255C', '2522', '252C', '255C', '2522parameter_216', '255C', '2522', '255D', '252C', '255C', '2522parameterNames', '255C', '2522', '253A', '255B', '255C', '2522PM10', '255C', '2522', '252C', '255C', '2522PM2.5', '255C', '2522', '252C', '255C', '2522AT', '255C', '2522', '252C', '255C', '2522BP', '255C', '2522', '252C', '255C', '2522SR', '255C', '2522', '252C', '255C', '2522RH', '255C', '2522', '252C', '255C', '2522WD', '255C', '2522', '252C', '255C', '2522TOT-RF', '255C', '2522', '252C', '255C', '2522RF', '255C', '2522', '252C', '255C', '2522NO', '255C', '2522', '252C', '255C', '2522NOx', '255C', '2522', '252C', '255C', '2522NO2', '255C', '2522', '252C', '255C', '2522NH3', '255C', '2522', '252C', '255C', '2522SO2', '255C', '2522', '252C', '255C', '2522CO', '255C', '2522', '252C', '255C', '2522Ozone', '255C', '2522', '252C', '255C', '2522Benzene', '255C', '2522', '252C', '255C', '2522Toluene', '255C', '2522', '252C', '255C', '2522Xylene', '255C', '2522', '252C', '255C', '2522MP-Xylene', '255C', '2522', '252C', '255C', '2522Eth-Benzene', '255C', '2522', '255D', '257D', '2522']\n"
     ]
    }
   ],
   "source": [
    "print(a)"
   ]
  },
  {
   "cell_type": "code",
   "execution_count": 20,
   "metadata": {},
   "outputs": [
    {
     "name": "stdout",
     "output_type": "stream",
     "text": [
      "['criteria', '24', 'Hours', 'reportFormat', 'Tabular', 'fromDate', '01-03-2022', 'T00', 'toDate', '31-03-2022', 'T11', 'state', 'Delhi', 'city', 'Delhi', 'station', 'site_5024', 'parameter', 'parameter_215', 'parameter_193', 'parameter_204', 'parameter_238', 'parameter_237', 'parameter_235', 'parameter_234', 'parameter_37', 'parameter_236', 'parameter_226', 'parameter_225', 'parameter_194', 'parameter_311', 'parameter_312', 'parameter_203', 'parameter_222', 'parameter_202', 'parameter_232', 'parameter_223', 'parameter_240', 'parameter_216', 'parameterNames', 'PM10', 'PM2.5', 'AT', 'BP', 'SR', 'RH', 'WD', 'TOT-RF', 'RF', 'NO', 'NOx', 'NO2', 'NH3', 'SO2', 'CO', 'Ozone', 'Benzene', 'Toluene', 'Xylene', 'MP-Xylene', 'Eth-Benzene']\n"
     ]
    }
   ],
   "source": [
    "print(b)"
   ]
  },
  {
   "cell_type": "code",
   "execution_count": 26,
   "metadata": {},
   "outputs": [],
   "source": [
    "attb = ['criteria','fromDate','toDate','reportFormat','state','city','station','parameter','parameterNames']\n",
    "attributes = {}\n",
    "for i in range(len(attb)):\n",
    "    j=attb[i]\n",
    "    loc = b.index(j)\n",
    "    if i<3:\n",
    "        attributes[j] = b[loc+1:loc+3]\n",
    "    elif i<7:\n",
    "        attributes[j] = b[loc+1]\n",
    "    elif j=='parameter':\n",
    "        attributes[j] = b[loc+1:b.index('parameterNames')]\n",
    "    elif j=='parameterNames':\n",
    "        attributes[j] = b[loc+1:]\n"
   ]
  },
  {
   "cell_type": "code",
   "execution_count": 27,
   "metadata": {},
   "outputs": [
    {
     "data": {
      "text/plain": [
       "{'criteria': ['24', 'Hours'],\n",
       " 'fromDate': ['01-03-2022', 'T00'],\n",
       " 'toDate': ['31-03-2022', 'T11'],\n",
       " 'reportFormat': 'Tabular',\n",
       " 'state': 'Delhi',\n",
       " 'city': 'Delhi',\n",
       " 'station': 'site_5024',\n",
       " 'parameter': ['parameter_215',\n",
       "  'parameter_193',\n",
       "  'parameter_204',\n",
       "  'parameter_238',\n",
       "  'parameter_237',\n",
       "  'parameter_235',\n",
       "  'parameter_234',\n",
       "  'parameter_37',\n",
       "  'parameter_236',\n",
       "  'parameter_226',\n",
       "  'parameter_225',\n",
       "  'parameter_194',\n",
       "  'parameter_311',\n",
       "  'parameter_312',\n",
       "  'parameter_203',\n",
       "  'parameter_222',\n",
       "  'parameter_202',\n",
       "  'parameter_232',\n",
       "  'parameter_223',\n",
       "  'parameter_240',\n",
       "  'parameter_216'],\n",
       " 'parameterNames': ['PM10',\n",
       "  'PM2.5',\n",
       "  'AT',\n",
       "  'BP',\n",
       "  'SR',\n",
       "  'RH',\n",
       "  'WD',\n",
       "  'TOT-RF',\n",
       "  'RF',\n",
       "  'NO',\n",
       "  'NOx',\n",
       "  'NO2',\n",
       "  'NH3',\n",
       "  'SO2',\n",
       "  'CO',\n",
       "  'Ozone',\n",
       "  'Benzene',\n",
       "  'Toluene',\n",
       "  'Xylene',\n",
       "  'MP-Xylene',\n",
       "  'Eth-Benzene']}"
      ]
     },
     "execution_count": 27,
     "metadata": {},
     "output_type": "execute_result"
    }
   ],
   "source": [
    "attributes"
   ]
  }
 ],
 "metadata": {
  "interpreter": {
   "hash": "bfe238d5db41a9e5886c29d0191fec0f5c6d1763ada754729b13ab8f25ec3733"
  },
  "kernelspec": {
   "display_name": "Python 3.10.1 64-bit",
   "language": "python",
   "name": "python3"
  },
  "language_info": {
   "codemirror_mode": {
    "name": "ipython",
    "version": 3
   },
   "file_extension": ".py",
   "mimetype": "text/x-python",
   "name": "python",
   "nbconvert_exporter": "python",
   "pygments_lexer": "ipython3",
   "version": "3.10.1"
  },
  "orig_nbformat": 4
 },
 "nbformat": 4,
 "nbformat_minor": 2
}
